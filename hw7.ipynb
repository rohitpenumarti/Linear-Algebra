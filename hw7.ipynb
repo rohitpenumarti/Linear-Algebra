{
 "cells": [
  {
   "cell_type": "code",
   "execution_count": 1,
   "metadata": {},
   "outputs": [],
   "source": [
    "import numpy as np"
   ]
  },
  {
   "cell_type": "markdown",
   "metadata": {},
   "source": [
    "# Problem 1"
   ]
  },
  {
   "cell_type": "code",
   "execution_count": 28,
   "metadata": {},
   "outputs": [
    {
     "name": "stdout",
     "output_type": "stream",
     "text": [
      "1: 7.051177983951208\n",
      "2: 7.045675966865446\n",
      "3: 7.066540742601932\n",
      "4: 7.224218024063238\n",
      "5: 7.53831764025483\n",
      "6: 7.713878956062961\n",
      "7: 8.66319880866332\n",
      "8: 8.678800230944349\n",
      "9: 8.894730083306841\n",
      "10: 9.467587861627797\n"
     ]
    }
   ],
   "source": [
    "np.random.seed(1)\n",
    "\n",
    "d = 10\n",
    "n = 10\n",
    "\n",
    "v = np.random.randn(d, n)\n",
    "u = np.random.randn(d, 1)\n",
    "\n",
    "norm_vals = np.zeros(n)\n",
    "\n",
    "for k in range(n):\n",
    "    proj = np.zeros(d)\n",
    "    for i in range(k):\n",
    "        proj += (v[i].dot(u.T[0]))/(v[i].dot(v[i]))*v[i]\n",
    "    norm_vals[k] = np.linalg.norm(u-proj, ord=2)\n",
    "\n",
    "for i, val in enumerate(norm_vals):\n",
    "    print(str(i+1) + \": \" + str(val))"
   ]
  },
  {
   "cell_type": "markdown",
   "metadata": {},
   "source": [
    "# Problem 4\n",
    "## Part a)"
   ]
  },
  {
   "cell_type": "code",
   "execution_count": 17,
   "metadata": {},
   "outputs": [
    {
     "name": "stdout",
     "output_type": "stream",
     "text": [
      "[[-0.49209018  1.51475188]\n",
      " [-3.06519525 -3.04412915]]\n"
     ]
    }
   ],
   "source": [
    "A = -5*np.random.random((2, 2))+5*np.random.random((2, 2))\n",
    "B = A.copy()\n",
    "B[0, 0] = 0\n",
    "\n",
    "A_norm = np.linalg.norm(A, ord=2)\n",
    "B_norm = np.linalg.norm(B, ord=2)\n",
    "\n",
    "if A_norm < B_norm:\n",
    "    print(A)\n",
    "else:\n",
    "    print(\"Fail\")"
   ]
  },
  {
   "cell_type": "markdown",
   "metadata": {},
   "source": [
    "# Problem 5\n",
    "## Part b)"
   ]
  },
  {
   "cell_type": "code",
   "execution_count": 29,
   "metadata": {},
   "outputs": [
    {
     "data": {
      "text/plain": [
       "array([[0.        , 0.999     , 0.998001  , ..., 0.95406496, 0.9531109 ,\n",
       "        0.95215779],\n",
       "       [0.999     , 0.998001  , 0.997003  , ..., 0.9531109 , 0.95215779,\n",
       "        0.95120563],\n",
       "       [0.998001  , 0.997003  , 0.996006  , ..., 0.95215779, 0.95120563,\n",
       "        0.95025442],\n",
       "       ...,\n",
       "       [0.95406496, 0.9531109 , 0.95215779, ..., 0.91023995, 0.90932971,\n",
       "        0.90842038],\n",
       "       [0.9531109 , 0.95215779, 0.95120563, ..., 0.90932971, 0.90842038,\n",
       "        0.90751196],\n",
       "       [0.95215779, 0.95120563, 0.95025442, ..., 0.90842038, 0.90751196,\n",
       "        0.90660445]])"
      ]
     },
     "execution_count": 29,
     "metadata": {},
     "output_type": "execute_result"
    }
   ],
   "source": [
    "n = 50\n",
    "r = 1-(1/1000)\n",
    "v = np.array([r**i for i in range(n)])\n",
    "v = np.reshape(v, (-1, 1))\n",
    "A = v.dot(v.T)\n",
    "A[0, 0] = 0\n",
    "A"
   ]
  },
  {
   "cell_type": "code",
   "execution_count": 30,
   "metadata": {},
   "outputs": [
    {
     "name": "stdout",
     "output_type": "stream",
     "text": [
      "Best bound: 45.54763411107522\n"
     ]
    }
   ],
   "source": [
    "N = int(1e6)\n",
    "\n",
    "best_lb = 0\n",
    "for i in range(N):\n",
    "    v = np.random.random((50,))\n",
    "    lb = np.linalg.norm(np.matmul(A, v), ord=2)/np.linalg.norm(v, ord=2)\n",
    "    \n",
    "    if lb > best_lb:\n",
    "        best_lb = lb\n",
    "\n",
    "print(\"Best bound: \" + str(best_lb))\n"
   ]
  },
  {
   "cell_type": "markdown",
   "metadata": {},
   "source": [
    "# Problem 7\n",
    "## Part a)"
   ]
  },
  {
   "cell_type": "code",
   "execution_count": 31,
   "metadata": {},
   "outputs": [
    {
     "name": "stdout",
     "output_type": "stream",
     "text": [
      "Norm of A_4: 4.0\n"
     ]
    }
   ],
   "source": [
    "A4 = np.array([[-2,1,0,1], [1,-2,1,0], [0,1,-2,1], [1,0,1,-2]])\n",
    "A4_norm = np.linalg.norm(A4, ord=2)\n",
    "print(\"Norm of A_4: \" + str(A4_norm))"
   ]
  },
  {
   "cell_type": "code",
   "execution_count": 32,
   "metadata": {},
   "outputs": [
    {
     "name": "stdout",
     "output_type": "stream",
     "text": [
      "Norm of A_5: 3.6180339887498945\n"
     ]
    }
   ],
   "source": [
    "A5 = np.array([[-2,1,0,0,1], [1,-2,1,0,0], [0,1,-2,1,0], [0,0,1,-2,1], [1,0,0,1,-2]])\n",
    "A5_norm = np.linalg.norm(A5, ord=2)\n",
    "print(\"Norm of A_5: \" + str(A5_norm))"
   ]
  },
  {
   "cell_type": "code",
   "execution_count": 33,
   "metadata": {},
   "outputs": [
    {
     "name": "stdout",
     "output_type": "stream",
     "text": [
      "Norm of A_6: 3.999999999999999\n"
     ]
    }
   ],
   "source": [
    "A6 = np.array([[-2,1,0,0,0,1], [1,-2,1,0,0,0], [0,1,-2,1,0,0], [0,0,1,-2,1,0], [0,0,0,1,-2,1], [1,0,0,0,1,-2]])\n",
    "A6_norm = np.linalg.norm(A6, ord=2)\n",
    "print(\"Norm of A_6: \" + str(A6_norm))"
   ]
  },
  {
   "cell_type": "markdown",
   "metadata": {},
   "source": [
    "# Problem 9\n",
    "## Part f)"
   ]
  },
  {
   "cell_type": "code",
   "execution_count": 34,
   "metadata": {},
   "outputs": [
    {
     "name": "stdout",
     "output_type": "stream",
     "text": [
      "V = [[-5.77350269e-01 -8.16496581e-01  1.11022302e-16]\n",
      " [ 5.77350269e-01 -4.08248290e-01 -7.07106781e-01]\n",
      " [ 5.77350269e-01 -4.08248290e-01  7.07106781e-01]]\n",
      "D = [1.73205081 1.73205081 1.        ]\n",
      "U^T = [[ 0.00000000e+00 -4.71027738e-16  1.00000000e+00]\n",
      " [-7.07106781e-01 -7.07106781e-01 -3.33066907e-16]\n",
      " [ 7.07106781e-01 -7.07106781e-01 -3.33066907e-16]]\n"
     ]
    }
   ],
   "source": [
    "F = np.array([[1,1,-1],[0,1,1],[1,0,1]])\n",
    "V, D, UT = np.linalg.svd(F)\n",
    "\n",
    "print(\"V = \" + str(V))\n",
    "print(\"D = \" + str(D))\n",
    "print(\"U^T = \" + str(UT))"
   ]
  },
  {
   "cell_type": "markdown",
   "metadata": {},
   "source": [
    "## Part g)"
   ]
  },
  {
   "cell_type": "code",
   "execution_count": 35,
   "metadata": {},
   "outputs": [
    {
     "name": "stdout",
     "output_type": "stream",
     "text": [
      "V = [[-0.89442719  0.4472136 ]\n",
      " [ 0.4472136   0.89442719]]\n",
      "D = [2.44948974 1.        ]\n",
      "U^T = [[-3.65148372e-01  9.12870929e-01  1.82574186e-01]\n",
      " [ 4.47213595e-01  1.11022302e-16  8.94427191e-01]\n",
      " [-8.16496581e-01 -4.08248290e-01  4.08248290e-01]]\n"
     ]
    }
   ],
   "source": [
    "G = np.array([[1,-2,0],[0,1,1]])\n",
    "V, D, UT = np.linalg.svd(G)\n",
    "\n",
    "print(\"V = \" + str(V))\n",
    "print(\"D = \" + str(D))\n",
    "print(\"U^T = \" + str(UT))"
   ]
  },
  {
   "cell_type": "code",
   "execution_count": 49,
   "metadata": {},
   "outputs": [
    {
     "data": {
      "text/plain": [
       "1.7320508075688774"
      ]
     },
     "execution_count": 49,
     "metadata": {},
     "output_type": "execute_result"
    }
   ],
   "source": [
    "F = np.array([[1,-1,0],[0,1,1]])\n",
    "F_norm = np.linalg.norm(F, ord=2)\n",
    "F_norm"
   ]
  }
 ],
 "metadata": {
  "interpreter": {
   "hash": "c56ca3609d35666c535b21e8eca1bf907b12d90c8862756640afa76760a7a6be"
  },
  "kernelspec": {
   "display_name": "Python 3.8.5 64-bit ('base': conda)",
   "name": "python3"
  },
  "language_info": {
   "codemirror_mode": {
    "name": "ipython",
    "version": 3
   },
   "file_extension": ".py",
   "mimetype": "text/x-python",
   "name": "python",
   "nbconvert_exporter": "python",
   "pygments_lexer": "ipython3",
   "version": "3.8.5"
  },
  "orig_nbformat": 4
 },
 "nbformat": 4,
 "nbformat_minor": 2
}
