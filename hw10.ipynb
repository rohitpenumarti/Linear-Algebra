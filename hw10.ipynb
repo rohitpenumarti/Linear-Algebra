{
 "cells": [
  {
   "cell_type": "code",
   "execution_count": 2,
   "metadata": {},
   "outputs": [],
   "source": [
    "import numpy as np"
   ]
  },
  {
   "cell_type": "markdown",
   "metadata": {},
   "source": [
    "# Problem 2\n",
    "## Part a)"
   ]
  },
  {
   "cell_type": "code",
   "execution_count": 5,
   "metadata": {},
   "outputs": [
    {
     "name": "stdout",
     "output_type": "stream",
     "text": [
      "The eigenvalue and eigenvector of A (1x1) is:\n",
      "(array([-0.76143029]), array([[1.]]))\n",
      "The eigenvalues and eigenvectors of B (2x2) are:\n",
      "(array([ 0.76143029, -0.76143029]), array([[ 0.70710678,  0.70710678],\n",
      "       [-0.70710678,  0.70710678]]))\n",
      "The eigenvalues and eigenvectors of A (2x2) are:\n",
      "(array([ 0.23229651, -0.35075968]), array([[ 0.74239953,  0.74217322],\n",
      "       [-0.66995741,  0.67020811]]))\n",
      "The eigenvalues and eigenvectors of B (4x4) are:\n",
      "(array([ 0.35075968,  0.23229651, -0.35075968, -0.23229651]), array([[-0.52479571, -0.52495574,  0.52479571,  0.52495574],\n",
      "       [-0.4739087 ,  0.47373143,  0.4739087 , -0.47373143],\n",
      "       [ 0.52479571, -0.52495574,  0.52479571, -0.52495574],\n",
      "       [ 0.4739087 ,  0.47373143,  0.4739087 ,  0.47373143]]))\n",
      "The eigenvalues and eigenvectors of A (3x3) are:\n",
      "(array([-1.19394782, -0.38569422,  1.58342888]), array([[-0.48474804, -0.92444763, -0.84311408],\n",
      "       [-0.20202936, -0.11434363, -0.52383894],\n",
      "       [-0.85100145, -0.36376107,  0.1214554 ]]))\n",
      "The eigenvalues and eigenvectors of B (6x6) are:\n",
      "(array([ 1.58342888,  1.19394782,  0.38569422, -0.38569422, -1.19394782,\n",
      "       -1.58342888]), array([[ 0.59617168,  0.34276863,  0.65368319,  0.65368319, -0.34276863,\n",
      "         0.59617168],\n",
      "       [ 0.37041007,  0.14285633,  0.08085315,  0.08085315, -0.14285633,\n",
      "         0.37041007],\n",
      "       [-0.08588193,  0.6017489 ,  0.25721792,  0.25721792, -0.6017489 ,\n",
      "        -0.08588193],\n",
      "       [ 0.59617168, -0.34276863, -0.65368319,  0.65368319, -0.34276863,\n",
      "        -0.59617168],\n",
      "       [ 0.37041007, -0.14285633, -0.08085315,  0.08085315, -0.14285633,\n",
      "        -0.37041007],\n",
      "       [-0.08588193, -0.6017489 , -0.25721792,  0.25721792, -0.6017489 ,\n",
      "         0.08588193]]))\n"
     ]
    }
   ],
   "source": [
    "A1 = np.random.randn(1, 1)\n",
    "A2 = np.random.randn(2, 2)\n",
    "A3 = np.random.randn(3, 3)\n",
    "\n",
    "z1 = np.zeros((1, 1))\n",
    "z2 = np.zeros((2, 2))\n",
    "z3 = np.zeros((3, 3))\n",
    "\n",
    "B1 = np.block([[z1, A1], [A1, z1]])\n",
    "B2 = np.block([[z2, A2], [A2, z2]])\n",
    "B3 = np.block([[z3, A3], [A3, z3]])\n",
    "\n",
    "A1_eigs = np.linalg.eig(A1)\n",
    "B1_eigs = np.linalg.eig(B1)\n",
    "\n",
    "A2_eigs = np.linalg.eig(A2)\n",
    "B2_eigs = np.linalg.eig(B2)\n",
    "\n",
    "A3_eigs = np.linalg.eig(A3)\n",
    "B3_eigs = np.linalg.eig(B3)\n",
    "\n",
    "print(\"The eigenvalue and eigenvector of A (1x1) is:\\n\" + str(A1_eigs) + \"\\nThe eigenvalues and eigenvectors of B (2x2) are:\\n\"\n",
    "        + str(B1_eigs) + \"\\nThe eigenvalues and eigenvectors of A (2x2) are:\\n\" + str(A2_eigs) + \"\\nThe eigenvalues and eigenvectors of B \"\n",
    "        \"(4x4) are:\\n\" + str(B2_eigs) + \"\\nThe eigenvalues and eigenvectors of A (3x3) are:\\n\" + str(A3_eigs) + \"\\nThe eigenvalues and \"\n",
    "        \"eigenvectors of B (6x6) are:\\n\" + str(B3_eigs))"
   ]
  },
  {
   "cell_type": "markdown",
   "metadata": {},
   "source": [
    "### So, we can see that the eigenvalues are generally just the same as the eigenvalues for A or they are negative permutations of the eigenvalues of A. The eigenvectors are related by a factor of square root of 2."
   ]
  },
  {
   "cell_type": "markdown",
   "metadata": {},
   "source": [
    "# Problem 3\n",
    "## Part a)\n",
    "### Using the power method, we find the eigenvalues, eigenvectors, determinant, and nonsingular matrix U such that U^(-1)AU is a diagonal matrix."
   ]
  },
  {
   "cell_type": "code",
   "execution_count": 50,
   "metadata": {},
   "outputs": [
    {
     "data": {
      "text/plain": [
       "array([[ 0, -3, -2],\n",
       "       [ 2,  5,  2],\n",
       "       [-2, -3,  0]])"
      ]
     },
     "execution_count": 50,
     "metadata": {},
     "output_type": "execute_result"
    }
   ],
   "source": [
    "A = np.array([[0, -3, -2], [2, 5, 2], [-2, -3, 0]])\n",
    "A"
   ]
  },
  {
   "cell_type": "markdown",
   "metadata": {},
   "source": [
    "### Using the power method, we obtain the following."
   ]
  },
  {
   "cell_type": "code",
   "execution_count": 51,
   "metadata": {},
   "outputs": [
    {
     "name": "stdout",
     "output_type": "stream",
     "text": [
      "We have that the principal eigenvector of A is\n",
      "[-0.56792422  0.68391709 -0.45795141]\n",
      "From this we also obtain the principal eigenvalue which is: 2.0\n"
     ]
    }
   ],
   "source": [
    "def power_method(A, nsim):\n",
    "    v_k = np.random.rand(A.shape[0])\n",
    "\n",
    "    for i in range(nsim):\n",
    "        v_k = np.matmul(A, v_k)\n",
    "        v_k /= np.linalg.norm(v_k)\n",
    "\n",
    "    return v_k\n",
    "\n",
    "nsim = 100000\n",
    "v_1 = power_method(A, nsim)\n",
    "\n",
    "check = np.divide(A@v_1, v_1)\n",
    "lambda_1 = check[0]\n",
    "print(\"We have that the principal eigenvector of A is\\n\" + str(v_1) + \"\\nFrom this we also obtain the principal eigenvalue which is: \"\n",
    "        + str(lambda_1))"
   ]
  },
  {
   "cell_type": "markdown",
   "metadata": {},
   "source": [
    "### Now, using built-in functions, we find the eigenvalues, eigenvectors, determinant, and nonsingular matrix U such that U^(-1)AU is a diagonal matrix."
   ]
  },
  {
   "cell_type": "code",
   "execution_count": 16,
   "metadata": {},
   "outputs": [
    {
     "name": "stdout",
     "output_type": "stream",
     "text": [
      "The eigenvalues and eigenvectors of A are:\n",
      "(array([1., 2., 2.]), array([[-0.57735027, -0.33333333,  0.19088005],\n",
      "       [ 0.57735027,  0.66666667, -0.62942278],\n",
      "       [-0.57735027, -0.66666667,  0.75325412]]))\n",
      "The determinant of A is: 4.000000000000001, and a nonsingular matrix U such that U^(-1)AU is a diagonal matrix is:\n",
      "[[-0.57735027 -0.33333333  0.19088005]\n",
      " [ 0.57735027  0.66666667 -0.62942278]\n",
      " [-0.57735027 -0.66666667  0.75325412]]\n",
      "where D=U^(-1)AU is given by:\n",
      "[[ 1.00000000e+00  1.33226763e-15 -8.88178420e-16]\n",
      " [-7.10542736e-15  2.00000000e+00  7.10542736e-15]\n",
      " [-1.77635684e-15 -1.77635684e-15  2.00000000e+00]]\n"
     ]
    }
   ],
   "source": [
    "A_eigs = np.linalg.eig(A)\n",
    "A_det = np.linalg.det(A)\n",
    "\n",
    "U = A_eigs[1]\n",
    "Uinv = np.linalg.inv(U)\n",
    "D = Uinv@B@U\n",
    "\n",
    "print(\"The eigenvalues and eigenvectors of A are:\\n\" + str(A_eigs) + \"\\nThe determinant of A is: \" + str(A_det) + \", and a nonsingular \"\n",
    "        \"matrix U such that U^(-1)AU is a diagonal matrix is:\\n\" + str(U) + \"\\nwhere D=U^(-1)AU is given by:\\n\" + str(D))"
   ]
  },
  {
   "cell_type": "markdown",
   "metadata": {},
   "source": [
    "# Problem 4\n",
    "## Part a)"
   ]
  },
  {
   "cell_type": "code",
   "execution_count": 16,
   "metadata": {},
   "outputs": [
    {
     "data": {
      "text/plain": [
       "array([[4.17022005e-01, 7.20324493e-01, 1.14374817e-04, ...,\n",
       "        5.73679487e-01, 2.87032703e-03, 6.17144914e-01],\n",
       "       [7.20324493e-01, 5.27058102e-01, 8.85942099e-01, ...,\n",
       "        2.34362086e-01, 6.16778357e-01, 9.49016321e-01],\n",
       "       [1.14374817e-04, 8.85942099e-01, 9.15606350e-01, ...,\n",
       "        7.96260777e-02, 9.82817114e-01, 1.81612851e-01],\n",
       "       ...,\n",
       "       [5.73679487e-01, 2.34362086e-01, 7.96260777e-02, ...,\n",
       "        8.35276181e-01, 2.39285522e-01, 7.30797255e-02],\n",
       "       [2.87032703e-03, 6.16778357e-01, 9.82817114e-01, ...,\n",
       "        2.39285522e-01, 5.08370915e-01, 8.47333803e-02],\n",
       "       [6.17144914e-01, 9.49016321e-01, 1.81612851e-01, ...,\n",
       "        7.30797255e-02, 8.47333803e-02, 7.62793778e-01]])"
      ]
     },
     "execution_count": 16,
     "metadata": {},
     "output_type": "execute_result"
    }
   ],
   "source": [
    "np.random.seed(1)\n",
    "\n",
    "n = 100\n",
    "A = np.random.rand(n, n)\n",
    "A = np.diag(np.diag(A)) + np.triu(A, 1) + np.triu(A, 1).T\n",
    "A"
   ]
  },
  {
   "cell_type": "code",
   "execution_count": 17,
   "metadata": {},
   "outputs": [
    {
     "data": {
      "text/plain": [
       "array([0.09608098, 0.09734805, 0.10836906, 0.09888139, 0.09845307,\n",
       "       0.09585422, 0.09690958, 0.10429969, 0.09501   , 0.09526097,\n",
       "       0.09927609, 0.10038285, 0.09724628, 0.10525882, 0.0919113 ,\n",
       "       0.10260968, 0.10659609, 0.10893956, 0.10713686, 0.10291671,\n",
       "       0.08912949, 0.09238826, 0.10528212, 0.09453652, 0.09259544,\n",
       "       0.08567914, 0.09954917, 0.09323791, 0.09860583, 0.09782563,\n",
       "       0.10184378, 0.09818615, 0.10079504, 0.09666537, 0.10472988,\n",
       "       0.0915029 , 0.09810982, 0.1002086 , 0.11160975, 0.09732125,\n",
       "       0.10156742, 0.09885113, 0.09927934, 0.10389348, 0.08616502,\n",
       "       0.10717184, 0.10064086, 0.11278075, 0.09723566, 0.10842254,\n",
       "       0.08831443, 0.11586237, 0.09468799, 0.09321103, 0.10931931,\n",
       "       0.09480007, 0.10010469, 0.09930226, 0.10920202, 0.10496486,\n",
       "       0.09984006, 0.10349324, 0.09267888, 0.10147076, 0.09599864,\n",
       "       0.08991323, 0.09908404, 0.10214758, 0.1031716 , 0.08713201,\n",
       "       0.10043127, 0.09606944, 0.09829078, 0.09935098, 0.09194665,\n",
       "       0.08985266, 0.0975554 , 0.09501529, 0.09659874, 0.10741668,\n",
       "       0.09553353, 0.10080737, 0.0963853 , 0.10620676, 0.10302663,\n",
       "       0.10471169, 0.10072646, 0.10333595, 0.11180557, 0.10732835,\n",
       "       0.10068371, 0.10928293, 0.10829759, 0.0955542 , 0.10686442,\n",
       "       0.09580743, 0.0946994 , 0.09816236, 0.10349856, 0.10668759])"
      ]
     },
     "execution_count": 17,
     "metadata": {},
     "output_type": "execute_result"
    }
   ],
   "source": [
    "def power_method(A, nsim):\n",
    "    v_k = np.random.rand(A.shape[0])\n",
    "\n",
    "    for i in range(nsim):\n",
    "        v_k = np.matmul(A, v_k)\n",
    "        v_k /= np.linalg.norm(v_k)\n",
    "\n",
    "    return v_k\n",
    "\n",
    "nsim = 100000\n",
    "v_1 = power_method(A, nsim)\n",
    "v_1"
   ]
  },
  {
   "cell_type": "markdown",
   "metadata": {},
   "source": [
    "### To check if this is a valid eigenvector, we compute the element-wise division of Av and v and if it works, we will obtain a matrix of the principal eigenvalue."
   ]
  },
  {
   "cell_type": "code",
   "execution_count": 18,
   "metadata": {},
   "outputs": [
    {
     "name": "stdout",
     "output_type": "stream",
     "text": [
      "[50.58089568 50.58089568 50.58089568 50.58089568 50.58089568 50.58089568\n",
      " 50.58089568 50.58089568 50.58089568 50.58089568 50.58089568 50.58089568\n",
      " 50.58089568 50.58089568 50.58089568 50.58089568 50.58089568 50.58089568\n",
      " 50.58089568 50.58089568 50.58089568 50.58089568 50.58089568 50.58089568\n",
      " 50.58089568 50.58089568 50.58089568 50.58089568 50.58089568 50.58089568\n",
      " 50.58089568 50.58089568 50.58089568 50.58089568 50.58089568 50.58089568\n",
      " 50.58089568 50.58089568 50.58089568 50.58089568 50.58089568 50.58089568\n",
      " 50.58089568 50.58089568 50.58089568 50.58089568 50.58089568 50.58089568\n",
      " 50.58089568 50.58089568 50.58089568 50.58089568 50.58089568 50.58089568\n",
      " 50.58089568 50.58089568 50.58089568 50.58089568 50.58089568 50.58089568\n",
      " 50.58089568 50.58089568 50.58089568 50.58089568 50.58089568 50.58089568\n",
      " 50.58089568 50.58089568 50.58089568 50.58089568 50.58089568 50.58089568\n",
      " 50.58089568 50.58089568 50.58089568 50.58089568 50.58089568 50.58089568\n",
      " 50.58089568 50.58089568 50.58089568 50.58089568 50.58089568 50.58089568\n",
      " 50.58089568 50.58089568 50.58089568 50.58089568 50.58089568 50.58089568\n",
      " 50.58089568 50.58089568 50.58089568 50.58089568 50.58089568 50.58089568\n",
      " 50.58089568 50.58089568 50.58089568 50.58089568]\n",
      "From this we also obtain the principal eigenvalue which is just the value shown below, i.e, 50.580895683180174\n"
     ]
    }
   ],
   "source": [
    "check = np.divide(A@v_1, v_1)\n",
    "lambda_1 = check[0]\n",
    "print(check)\n",
    "print(\"From this we also obtain the principal eigenvalue which is just the value shown below, i.e, \" + str(lambda_1))"
   ]
  },
  {
   "cell_type": "markdown",
   "metadata": {},
   "source": [
    "## Part b)"
   ]
  },
  {
   "cell_type": "code",
   "execution_count": 19,
   "metadata": {},
   "outputs": [
    {
     "name": "stdout",
     "output_type": "stream",
     "text": [
      "[0.01640417 0.01640417 0.01640417 0.01640417 0.01640417 0.01640417\n",
      " 0.01640417 0.01640417 0.01640417 0.01640417 0.01640417 0.01640417\n",
      " 0.01640417 0.01640417 0.01640417 0.01640417 0.01640417 0.01640417\n",
      " 0.01640417 0.01640417 0.01640417 0.01640417 0.01640417 0.01640417\n",
      " 0.01640417 0.01640417 0.01640417 0.01640417 0.01640417 0.01640417\n",
      " 0.01640417 0.01640417 0.01640417 0.01640417 0.01640417 0.01640417\n",
      " 0.01640417 0.01640417 0.01640417 0.01640417 0.01640417 0.01640417\n",
      " 0.01640417 0.01640417 0.01640417 0.01640417 0.01640417 0.01640417\n",
      " 0.01640417 0.01640417 0.01640417 0.01640417 0.01640417 0.01640417\n",
      " 0.01640417 0.01640417 0.01640417 0.01640417 0.01640417 0.01640417\n",
      " 0.01640417 0.01640417 0.01640417 0.01640417 0.01640417 0.01640417\n",
      " 0.01640417 0.01640417 0.01640417 0.01640417 0.01640417 0.01640417\n",
      " 0.01640417 0.01640417 0.01640417 0.01640417 0.01640417 0.01640417\n",
      " 0.01640417 0.01640417 0.01640417 0.01640417 0.01640417 0.01640417\n",
      " 0.01640417 0.01640417 0.01640417 0.01640417 0.01640417 0.01640417\n",
      " 0.01640417 0.01640417 0.01640417 0.01640417 0.01640417 0.01640417\n",
      " 0.01640417 0.01640417 0.01640417 0.01640417]\n",
      "From this we also obtain the principal eigenvalue which is just the value shown below, i.e, 0.016404173120922082\n"
     ]
    }
   ],
   "source": [
    "nsim = 100000\n",
    "\n",
    "v_k = np.random.rand(A.shape[0])\n",
    "for i in range(nsim):\n",
    "    v_k = np.linalg.solve(A, v_k)\n",
    "    v_k /= np.linalg.norm(v_k)\n",
    "\n",
    "check = np.divide(A@v_k, v_k)\n",
    "lambda_k = check[0]\n",
    "print(check)\n",
    "print(\"From this we also obtain the principal eigenvalue which is just the value shown below, i.e, \" + str(lambda_k))"
   ]
  },
  {
   "cell_type": "markdown",
   "metadata": {},
   "source": [
    "## Part c)"
   ]
  },
  {
   "cell_type": "code",
   "execution_count": 25,
   "metadata": {},
   "outputs": [
    {
     "name": "stdout",
     "output_type": "stream",
     "text": [
      "[-0.0613411 -0.0613411 -0.0613411 -0.0613411 -0.0613411 -0.0613411\n",
      " -0.0613411 -0.0613411 -0.0613411 -0.0613411 -0.0613411 -0.0613411\n",
      " -0.0613411 -0.0613411 -0.0613411 -0.0613411 -0.0613411 -0.0613411\n",
      " -0.0613411 -0.0613411 -0.0613411 -0.0613411 -0.0613411 -0.0613411\n",
      " -0.0613411 -0.0613411 -0.0613411 -0.0613411 -0.0613411 -0.0613411\n",
      " -0.0613411 -0.0613411 -0.0613411 -0.0613411 -0.0613411 -0.0613411\n",
      " -0.0613411 -0.0613411 -0.0613411 -0.0613411 -0.0613411 -0.0613411\n",
      " -0.0613411 -0.0613411 -0.0613411 -0.0613411 -0.0613411 -0.0613411\n",
      " -0.0613411 -0.0613411 -0.0613411 -0.0613411 -0.0613411 -0.0613411\n",
      " -0.0613411 -0.0613411 -0.0613411 -0.0613411 -0.0613411 -0.0613411\n",
      " -0.0613411 -0.0613411 -0.0613411 -0.0613411 -0.0613411 -0.0613411\n",
      " -0.0613411 -0.0613411 -0.0613411 -0.0613411 -0.0613411 -0.0613411\n",
      " -0.0613411 -0.0613411 -0.0613411 -0.0613411 -0.0613411 -0.0613411\n",
      " -0.0613411 -0.0613411 -0.0613411 -0.0613411 -0.0613411 -0.0613411\n",
      " -0.0613411 -0.0613411 -0.0613411 -0.0613411 -0.0613411 -0.0613411\n",
      " -0.0613411 -0.0613411 -0.0613411 -0.0613411 -0.0613411 -0.0613411\n",
      " -0.0613411 -0.0613411 -0.0613411 -0.0613411]\n",
      "From this we also obtain the principal eigenvalue which is just the value shown below, i.e, -0.061341097983457826\n"
     ]
    }
   ],
   "source": [
    "nsim = 100000\n",
    "\n",
    "v_k2 = np.random.rand(A.shape[0])\n",
    "v_k2 = v_k2 - np.matmul(v_k, v_k2)*v_k\n",
    "for i in range(nsim):\n",
    "    v_k2 = np.linalg.solve(A, v_k2)\n",
    "    v_k2 = v_k2 - np.matmul(v_k, v_k2)*v_k\n",
    "    v_k2 /= np.linalg.norm(v_k2)\n",
    "\n",
    "check = np.divide(A@v_k2, v_k2)\n",
    "lambda_k2 = check[0]\n",
    "print(check)\n",
    "print(\"From this we also obtain the principal eigenvalue which is just the value shown below, i.e, \" + str(lambda_k2))"
   ]
  },
  {
   "cell_type": "code",
   "execution_count": 27,
   "metadata": {},
   "outputs": [
    {
     "name": "stdout",
     "output_type": "stream",
     "text": [
      "[0.12601275 0.12601275 0.12601275 0.12601275 0.12601275 0.12601275\n",
      " 0.12601275 0.12601275 0.12601275 0.12601275 0.12601275 0.12601275\n",
      " 0.12601275 0.12601275 0.12601275 0.12601275 0.12601275 0.12601275\n",
      " 0.12601275 0.12601275 0.12601275 0.12601275 0.12601275 0.12601275\n",
      " 0.12601275 0.12601275 0.12601275 0.12601275 0.12601275 0.12601275\n",
      " 0.12601275 0.12601275 0.12601275 0.12601275 0.12601275 0.12601275\n",
      " 0.12601275 0.12601275 0.12601275 0.12601275 0.12601275 0.12601275\n",
      " 0.12601275 0.12601275 0.12601275 0.12601275 0.12601275 0.12601275\n",
      " 0.12601275 0.12601275 0.12601275 0.12601275 0.12601275 0.12601275\n",
      " 0.12601275 0.12601275 0.12601275 0.12601275 0.12601275 0.12601275\n",
      " 0.12601275 0.12601275 0.12601275 0.12601275 0.12601275 0.12601275\n",
      " 0.12601275 0.12601275 0.12601275 0.12601275 0.12601275 0.12601275\n",
      " 0.12601275 0.12601275 0.12601275 0.12601275 0.12601275 0.12601275\n",
      " 0.12601275 0.12601275 0.12601275 0.12601275 0.12601275 0.12601275\n",
      " 0.12601275 0.12601275 0.12601275 0.12601275 0.12601275 0.12601275\n",
      " 0.12601275 0.12601275 0.12601275 0.12601275 0.12601275 0.12601275\n",
      " 0.12601275 0.12601275 0.12601275 0.12601275]\n",
      "From this we also obtain the principal eigenvalue which is just the value shown below, i.e, 0.12601275327779551\n"
     ]
    }
   ],
   "source": [
    "nsim = 100000\n",
    "\n",
    "v_k3 = np.random.rand(A.shape[0])\n",
    "v_k3 = v_k3 - np.dot(v_k, v_k3)*v_k - np.dot(v_k2, v_k3)*v_k2\n",
    "for i in range(nsim):\n",
    "    v_k3 = np.linalg.solve(A, v_k3)\n",
    "    v_k3 = v_k3 - np.dot(v_k, v_k3)*v_k - np.dot(v_k2, v_k3)*v_k2\n",
    "    v_k3 /= np.linalg.norm(v_k3)\n",
    "\n",
    "check = np.divide(A@v_k3, v_k3)\n",
    "lambda_k3 = check[0]\n",
    "print(check)\n",
    "print(\"From this we also obtain the principal eigenvalue which is just the value shown below, i.e, \" + str(lambda_k3))"
   ]
  },
  {
   "cell_type": "code",
   "execution_count": 11,
   "metadata": {},
   "outputs": [
    {
     "data": {
      "text/plain": [
       "array([1.64041731e-02, 6.13410980e-02, 1.26012753e-01, 1.54523192e-01,\n",
       "       2.31050909e-01, 2.66825338e-01, 3.35912531e-01, 3.75651040e-01,\n",
       "       3.94365702e-01, 4.60087992e-01, 5.14258067e-01, 5.65548872e-01,\n",
       "       5.76227158e-01, 5.94547082e-01, 6.86035099e-01, 7.53019281e-01,\n",
       "       8.01048459e-01, 8.33310806e-01, 8.48844470e-01, 9.09477718e-01,\n",
       "       9.67727382e-01, 1.00815960e+00, 1.01122041e+00, 1.06269523e+00,\n",
       "       1.07426941e+00, 1.14028634e+00, 1.20832859e+00, 1.22267912e+00,\n",
       "       1.26712010e+00, 1.29030491e+00, 1.32197611e+00, 1.36483161e+00,\n",
       "       1.41598719e+00, 1.52913378e+00, 1.59167257e+00, 1.61895138e+00,\n",
       "       1.62356438e+00, 1.66375533e+00, 1.68655212e+00, 1.69215343e+00,\n",
       "       1.81241131e+00, 1.86540909e+00, 1.89782469e+00, 1.95234060e+00,\n",
       "       1.95463761e+00, 2.01593473e+00, 2.14356165e+00, 2.17508446e+00,\n",
       "       2.27182272e+00, 2.32935460e+00, 2.34720851e+00, 2.39190935e+00,\n",
       "       2.41689426e+00, 2.56281184e+00, 2.56582331e+00, 2.59110976e+00,\n",
       "       2.64643156e+00, 2.72354149e+00, 2.78029978e+00, 2.79454897e+00,\n",
       "       2.84328206e+00, 2.85305172e+00, 2.93849207e+00, 2.94710218e+00,\n",
       "       2.97109120e+00, 3.18248710e+00, 3.24997711e+00, 3.25782978e+00,\n",
       "       3.31652836e+00, 3.35880343e+00, 3.42291220e+00, 3.49921592e+00,\n",
       "       3.55585784e+00, 3.62344007e+00, 3.66227596e+00, 3.73450717e+00,\n",
       "       3.76955682e+00, 3.81947518e+00, 3.96602171e+00, 4.00758113e+00,\n",
       "       4.07890084e+00, 4.09447028e+00, 4.12365891e+00, 4.20253380e+00,\n",
       "       4.30138064e+00, 4.35363532e+00, 4.37616792e+00, 4.49179985e+00,\n",
       "       4.51131085e+00, 4.54625613e+00, 4.67561001e+00, 4.72495809e+00,\n",
       "       4.84180683e+00, 4.86497474e+00, 5.07160588e+00, 5.18926321e+00,\n",
       "       5.29218028e+00, 5.66425117e+00, 5.95076958e+00, 5.05808957e+01])"
      ]
     },
     "execution_count": 11,
     "metadata": {},
     "output_type": "execute_result"
    }
   ],
   "source": [
    "np.sort(np.abs(np.linalg.eig(A)[0]))"
   ]
  }
 ],
 "metadata": {
  "interpreter": {
   "hash": "c56ca3609d35666c535b21e8eca1bf907b12d90c8862756640afa76760a7a6be"
  },
  "kernelspec": {
   "display_name": "Python 3.8.5 64-bit ('base': conda)",
   "name": "python3"
  },
  "language_info": {
   "codemirror_mode": {
    "name": "ipython",
    "version": 3
   },
   "file_extension": ".py",
   "mimetype": "text/x-python",
   "name": "python",
   "nbconvert_exporter": "python",
   "pygments_lexer": "ipython3",
   "version": "3.8.5"
  },
  "orig_nbformat": 4
 },
 "nbformat": 4,
 "nbformat_minor": 2
}
