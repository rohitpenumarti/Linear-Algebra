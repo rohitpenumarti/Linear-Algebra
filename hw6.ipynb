{
 "cells": [
  {
   "cell_type": "code",
   "execution_count": 7,
   "metadata": {},
   "outputs": [],
   "source": [
    "import numpy as np\n",
    "from scipy.integrate import quad"
   ]
  },
  {
   "cell_type": "markdown",
   "metadata": {},
   "source": [
    "# Problem 3"
   ]
  },
  {
   "cell_type": "markdown",
   "metadata": {},
   "source": [
    "## Part a)"
   ]
  },
  {
   "cell_type": "markdown",
   "metadata": {},
   "source": [
    "### Below, I have implemented the function for polynomial dot product with integration as the inner product definition. To test the function, I have used the polynomials 1+2x and 3+4x which achieves the desired result."
   ]
  },
  {
   "cell_type": "code",
   "execution_count": 8,
   "metadata": {},
   "outputs": [
    {
     "data": {
      "text/plain": [
       "10.666666666666666"
      ]
     },
     "execution_count": 8,
     "metadata": {},
     "output_type": "execute_result"
    }
   ],
   "source": [
    "def _multiply_vec_poly(v1, v2):\n",
    "    res = np.zeros(np.size(v1)*np.size(v2))\n",
    "    for exp1, i in enumerate(v1):\n",
    "        for exp2, j in enumerate(v2):\n",
    "            res[exp1+exp2] += i*j\n",
    "    return res\n",
    "\n",
    "def _vec_to_polynomial(x, v):\n",
    "    res = 0\n",
    "    for exp, i in enumerate(v):\n",
    "        res += i*(x**exp)\n",
    "    \n",
    "    return res\n",
    "\n",
    "def polynomialdot(f, g, tol=0.0001):\n",
    "    prod = _multiply_vec_poly(f, g)\n",
    "\n",
    "    res = quad(_vec_to_polynomial, 0, 1, args=(prod,))[0]\n",
    "    if abs(res-round(res)) <= tol:\n",
    "        return round(res)\n",
    "    else:\n",
    "        return res\n",
    "\n",
    "f = np.array([1, 2, 0, 0])\n",
    "g = np.array([3, 4, 0, 0])\n",
    "\n",
    "res = polynomialdot(f, g)\n",
    "res"
   ]
  },
  {
   "cell_type": "markdown",
   "metadata": {},
   "source": [
    "## Part b)"
   ]
  },
  {
   "cell_type": "markdown",
   "metadata": {},
   "source": [
    "### To check if the polynomials given form an orthonormal basis, I computed the polynomial dot product between each polynomial (in vector format) thus getting a 4x4 matrix that shows that polynomial dot product between a polynomial and itself yields 1 and between any two non-equal polynomials yields 0 thus showing orthonormality."
   ]
  },
  {
   "cell_type": "code",
   "execution_count": 9,
   "metadata": {},
   "outputs": [
    {
     "data": {
      "text/plain": [
       "array([[1., 0., 0., 0.],\n",
       "       [0., 1., 0., 0.],\n",
       "       [0., 0., 1., 0.],\n",
       "       [0., 0., 0., 1.]])"
      ]
     },
     "execution_count": 9,
     "metadata": {},
     "output_type": "execute_result"
    }
   ],
   "source": [
    "v = np.zeros((4, 4))\n",
    "\n",
    "v[0] = np.array([1, 0, 0, 0])\n",
    "v[1] = np.sqrt(3)*np.array([-1, 2, 0, 0])\n",
    "v[2] = np.sqrt(5)*np.array([1, -6, 6, 0])\n",
    "v[3] = np.sqrt(7)*np.array([-1, 12, -30, 20])\n",
    "\n",
    "dot_matrix = np.zeros((4, 4))\n",
    "\n",
    "for i in range(4):\n",
    "    for j in range(4):\n",
    "        dot_matrix[i, j] = polynomialdot(v[i], v[j])\n",
    "\n",
    "dot_matrix"
   ]
  },
  {
   "cell_type": "markdown",
   "metadata": {},
   "source": [
    "## Part c)"
   ]
  },
  {
   "cell_type": "markdown",
   "metadata": {},
   "source": [
    "### Here I implement a gram schmidt function using the polynomial inner product and verify that it works for two example polynomials. I then verify again with a randomly generated polynomial of degree at most 10 and show that it produces an orthonormal set of vectors, in a similar way to the previous part, as desired."
   ]
  },
  {
   "cell_type": "code",
   "execution_count": 10,
   "metadata": {},
   "outputs": [
    {
     "data": {
      "text/plain": [
       "array([[ 0.48038446,  0.96076892,  0.        ,  0.        ],\n",
       "       [ 1.94145069, -3.32820118,  0.        ,  0.        ]])"
      ]
     },
     "execution_count": 10,
     "metadata": {},
     "output_type": "execute_result"
    }
   ],
   "source": [
    "def gram_schmidt(vec, tol=0.0001):\n",
    "    e = np.zeros((np.shape(vec)))\n",
    "    u = np.zeros((np.shape(vec)))\n",
    "\n",
    "    for i, v in enumerate(vec):\n",
    "        if i == 0:\n",
    "            u[0] = v\n",
    "            e[0] = u[0]/np.sqrt(polynomialdot(u[0], u[0], tol))\n",
    "        else:\n",
    "            u[i] = v\n",
    "            for j in range(i):\n",
    "                u[i] -= (polynomialdot(u[j], v, tol)/polynomialdot(u[j], u[j], tol))*u[j]\n",
    "            e[i] = u[i]/np.sqrt(polynomialdot(u[i], u[i], tol))\n",
    "\n",
    "    return e\n",
    "\n",
    "f = np.array([1, 2, 0, 0])\n",
    "g = np.array([3, 4, 0, 0])\n",
    "\n",
    "vec = np.array([f, g])\n",
    "\n",
    "res = gram_schmidt(vec)\n",
    "res"
   ]
  },
  {
   "cell_type": "code",
   "execution_count": 17,
   "metadata": {},
   "outputs": [
    {
     "name": "stderr",
     "output_type": "stream",
     "text": [
      "<ipython-input-8-6dc66c7d839f>:18: IntegrationWarning: The occurrence of roundoff error is detected, which prevents \n",
      "  the requested tolerance from being achieved.  The error may be \n",
      "  underestimated.\n",
      "  res = quad(_vec_to_polynomial, 0, 1, args=(prod,))[0]\n",
      "<ipython-input-8-6dc66c7d839f>:18: IntegrationWarning: The maximum number of subdivisions (50) has been achieved.\n",
      "  If increasing the limit yields no improvement it is advised to analyze \n",
      "  the integrand in order to determine the difficulties.  If the position of a \n",
      "  local difficulty can be determined (singularity, discontinuity) one will \n",
      "  probably gain from splitting up the interval and calling the integrator \n",
      "  on the subranges.  Perhaps a special-purpose integrator should be used.\n",
      "  res = quad(_vec_to_polynomial, 0, 1, args=(prod,))[0]\n"
     ]
    },
    {
     "name": "stdout",
     "output_type": "stream",
     "text": [
      "##### Answer #####\n",
      "Below is the first four of the resulting orthonormal set of polynomials for the randomly generated set of vectors of degree at most 10.\n",
      "[[ -1.59581014   2.39371521   0.79790507   1.59581014]\n",
      " [  1.16042781  -0.83059097   0.32983684   0.25520668]\n",
      " [  0.3150773   -7.53411229  17.94511551   3.9709257 ]\n",
      " [ -3.37785274  31.52156275 -56.39452079   3.88464851]]\n",
      "Below is the first four of the resulting dot product matrix for the randomly generated set of vectors of degree at most 10.\n",
      "[[1. 0. 0. 0.]\n",
      " [0. 1. 0. 0.]\n",
      " [0. 0. 1. 0.]\n",
      " [0. 0. 0. 1.]]\n"
     ]
    }
   ],
   "source": [
    "vec = np.random.randint(-5, 5, (11, 11))\n",
    "res = gram_schmidt(vec, tol=1e-40)\n",
    "\n",
    "dot_matrix = np.zeros((11, 11))\n",
    "\n",
    "for i in range(11):\n",
    "    for j in range(11):\n",
    "        dot_matrix[i, j] = polynomialdot(res[i], res[j])\n",
    "\n",
    "print(\"##### Answer #####\")\n",
    "print(\"Below is the first four of the resulting orthonormal set of polynomials for the randomly generated set of vectors of degree at most 10.\")\n",
    "print(res[:4,:4])\n",
    "print(\"Below is the first four of the resulting dot product matrix for the randomly generated set of vectors of degree at most 10.\")\n",
    "print(dot_matrix[:4,:4])"
   ]
  },
  {
   "cell_type": "markdown",
   "metadata": {},
   "source": [
    "## Extra"
   ]
  },
  {
   "cell_type": "markdown",
   "metadata": {},
   "source": [
    "### Below, I generate a random polynomial of degree at most 40 and as can be seen, my gram-schmidt function does not work for polynomials of this size. It does not work because for larger and larger polynomials, numerical integration becomes more unstable and so errors in computation add up to result in a basis that has errors propagated through each operation."
   ]
  },
  {
   "cell_type": "code",
   "execution_count": 19,
   "metadata": {},
   "outputs": [
    {
     "name": "stdout",
     "output_type": "stream",
     "text": [
      "Below is the resulting orthonormal set of polynomials for the randomly generated set of vectors of degree at most 40.\n",
      "[[ 6.59641918e-01  4.94731439e-01 -6.59641918e-01 ...  4.94731439e-01\n",
      "  -1.64910480e-01  6.59641918e-01]\n",
      " [-5.81853989e-01 -4.60219017e-01  2.95911679e-01 ...  3.02293809e-01\n",
      "   4.07577281e-01  2.75972941e-01]\n",
      " [-2.07787618e-01  1.85841617e+00 -3.75304663e+00 ... -4.51900801e+00\n",
      "  -3.04777384e+00 -2.84498388e+00]\n",
      " ...\n",
      " [ 5.09979402e+00 -6.23125151e+02  1.85612491e+04 ...  1.68302487e+07\n",
      "  -1.37467850e+08  5.84437507e+07]\n",
      " [-3.67228969e+00  4.47982330e+02 -1.33098951e+04 ... -1.18625774e+07\n",
      "   9.67935827e+07 -4.10959348e+07]\n",
      " [ 3.91493749e+00 -4.80717410e+02  1.43867825e+04 ...  1.11113492e+07\n",
      "  -9.87853667e+07  4.21759655e+07]]\n",
      "Below is the resulting dot product matrix for the randomly generated set of vectors of degree at most 40.\n",
      "[[ 36.77083487  10.15421913  14.63075755 ...  13.52147798  30.51709513\n",
      "    1.93852801]\n",
      " [ 10.15421913 112.87830732 100.73511699 ...   1.38475101  21.82639776\n",
      "   66.57671686]\n",
      " [ 14.63075755 100.73511699  91.9774503  ...   2.00479776  24.43534487\n",
      "   60.90097975]\n",
      " ...\n",
      " [ 13.52147798   1.38475101   2.00479776 ...   8.88139543  10.66784066\n",
      "   -4.88942124]\n",
      " [ 30.51709513  21.82639776  24.43534487 ...  10.66784066  27.41586038\n",
      "   10.44221844]\n",
      " [  1.93852801  66.57671686  60.90097975 ...  -4.88942124  10.44221844\n",
      "   44.97590928]]\n"
     ]
    }
   ],
   "source": [
    "p40 = np.random.randint(-5, 5, (41, 41))\n",
    "res = gram_schmidt(p40, tol=1e-40)\n",
    "dot_matrix = np.zeros((41, 41))\n",
    "\n",
    "for i in range(41):\n",
    "    for j in range(41):\n",
    "        dot_matrix[i, j] = polynomialdot(p40[i], p40[j])\n",
    "\n",
    "print(\"Below is the resulting orthonormal set of polynomials for the randomly generated set of vectors of degree at most 40.\")\n",
    "print(res)\n",
    "print(\"Below is the resulting dot product matrix for the randomly generated set of vectors of degree at most 40.\")\n",
    "print(dot_matrix)"
   ]
  }
 ],
 "metadata": {
  "interpreter": {
   "hash": "c56ca3609d35666c535b21e8eca1bf907b12d90c8862756640afa76760a7a6be"
  },
  "kernelspec": {
   "display_name": "Python 3.8.5 64-bit ('base': conda)",
   "name": "python3"
  },
  "language_info": {
   "codemirror_mode": {
    "name": "ipython",
    "version": 3
   },
   "file_extension": ".py",
   "mimetype": "text/x-python",
   "name": "python",
   "nbconvert_exporter": "python",
   "pygments_lexer": "ipython3",
   "version": "3.8.5"
  }
 },
 "nbformat": 4,
 "nbformat_minor": 2
}
